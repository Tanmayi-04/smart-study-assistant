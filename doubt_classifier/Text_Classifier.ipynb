{
 "cells": [
  {
   "cell_type": "code",
   "execution_count": 36,
   "id": "0e0efd51",
   "metadata": {},
   "outputs": [
    {
     "name": "stdout",
     "output_type": "stream",
     "text": [
      "                                            question            subject\n",
      "0   What is the main purpose of an operating system?  Operating Systems\n",
      "1  Explain the difference between preemptive and ...  Operating Systems\n",
      "2       What is a deadlock? How can it be prevented?  Operating Systems\n",
      "3            Describe the concept of virtual memory.  Operating Systems\n",
      "4  What are the different process states in an op...  Operating Systems\n",
      "<class 'pandas.core.frame.DataFrame'>\n",
      "RangeIndex: 338 entries, 0 to 337\n",
      "Data columns (total 2 columns):\n",
      " #   Column    Non-Null Count  Dtype \n",
      "---  ------    --------------  ----- \n",
      " 0   question  338 non-null    object\n",
      " 1   subject   338 non-null    object\n",
      "dtypes: object(2)\n",
      "memory usage: 5.4+ KB\n",
      "None\n"
     ]
    },
    {
     "name": "stderr",
     "output_type": "stream",
     "text": [
      "C:\\Users\\tanma\\AppData\\Local\\Temp\\ipykernel_34556\\1992695708.py:3: ParserWarning: Skipping line 55: expected 2 fields, saw 4\n",
      "Skipping line 62: expected 2 fields, saw 4\n",
      "Skipping line 302: expected 2 fields, saw 4\n",
      "Skipping line 318: expected 2 fields, saw 4\n",
      "Skipping line 326: expected 2 fields, saw 4\n",
      "\n",
      "  df = pd.read_csv(\"data/subject_dataset.csv\", encoding=\"utf-8\", on_bad_lines='warn')\n"
     ]
    }
   ],
   "source": [
    "import pandas as pd\n",
    "\n",
    "df = pd.read_csv(\"data/subject_dataset.csv\", encoding=\"utf-8\", on_bad_lines='warn')\n",
    "print(df.head())\n",
    "print(df.info())\n"
   ]
  },
  {
   "cell_type": "code",
   "execution_count": 37,
   "id": "ea5045d2",
   "metadata": {},
   "outputs": [],
   "source": [
    "import re\n",
    "\n",
    "def clean_text(text):\n",
    "    text = text.lower()  # Convert to lowercase\n",
    "    text = re.sub(r'[^a-z0-9\\s]', '', text)  # Remove punctuation\n",
    "    text = re.sub(r'\\s+', ' ', text).strip()  # Remove extra whitespace\n",
    "    return text\n",
    "\n",
    "df['clean_question'] = df['question'].apply(clean_text)\n"
   ]
  },
  {
   "cell_type": "code",
   "execution_count": 38,
   "id": "30b987d5",
   "metadata": {},
   "outputs": [],
   "source": [
    "from sklearn.feature_extraction.text import TfidfVectorizer\n",
    "\n",
    "# Create TF-IDF vectorizer with unigrams and bigrams, and remove common stop words\n",
    "vectorizer = TfidfVectorizer(ngram_range=(1, 2), stop_words='english')\n",
    "\n",
    "X = vectorizer.fit_transform(df['clean_question'])\n",
    "y = df['subject']\n"
   ]
  },
  {
   "cell_type": "code",
   "execution_count": 39,
   "id": "e3d1ffc2",
   "metadata": {},
   "outputs": [
    {
     "name": "stdout",
     "output_type": "stream",
     "text": [
      "Training samples: 270\n",
      "Testing samples: 68\n"
     ]
    }
   ],
   "source": [
    "from sklearn.model_selection import train_test_split\n",
    "\n",
    "X_train, X_test, y_train, y_test = train_test_split(\n",
    "    X, y, test_size=0.2, random_state=42, stratify=y\n",
    ")\n",
    "\n",
    "print(\"Training samples:\", X_train.shape[0])\n",
    "print(\"Testing samples:\", X_test.shape[0])\n"
   ]
  },
  {
   "cell_type": "code",
   "execution_count": 41,
   "id": "1fb2dc3a",
   "metadata": {},
   "outputs": [
    {
     "name": "stdout",
     "output_type": "stream",
     "text": [
      "Accuracy: 0.7647058823529411\n",
      "\n",
      "Classification Report:\n",
      "                        precision    recall  f1-score   support\n",
      "\n",
      "Computer Architecture       0.75      0.33      0.46         9\n",
      "    Computer Networks       0.44      0.70      0.54        10\n",
      "                 DBMS       0.90      0.90      0.90        10\n",
      "                  DSA       0.73      0.80      0.76        10\n",
      "                 OOPS       1.00      0.90      0.95        10\n",
      "    Operating Systems       0.80      0.80      0.80        10\n",
      " Software Engineering       1.00      0.89      0.94         9\n",
      "\n",
      "             accuracy                           0.76        68\n",
      "            macro avg       0.80      0.76      0.76        68\n",
      "         weighted avg       0.80      0.76      0.77        68\n",
      "\n"
     ]
    }
   ],
   "source": [
    "from sklearn.linear_model import LogisticRegression\n",
    "from sklearn.model_selection import GridSearchCV\n",
    "\n",
    "# Define model with improved solver for multiclass\n",
    "lr = LogisticRegression(max_iter=1000, solver='saga')  # removed deprecated multi_class\n",
    "\n",
    "param_grid = {\n",
    "    'C': [0.1, 1, 10],\n",
    "    'penalty': ['l2']  # saga supports only l2 for multinomial\n",
    "}\n",
    "\n",
    "# Grid Search\n",
    "grid = GridSearchCV(lr, param_grid, cv=5, scoring='accuracy')\n",
    "grid.fit(X_train, y_train)\n",
    "\n",
    "# Best model\n",
    "best_model = grid.best_estimator_\n",
    "\n",
    "# Predict & evaluate\n",
    "y_pred = best_model.predict(X_test)\n",
    "\n",
    "from sklearn.metrics import accuracy_score, classification_report\n",
    "\n",
    "print(\"Accuracy:\", accuracy_score(y_test, y_pred))\n",
    "print(\"\\nClassification Report:\\n\", classification_report(y_test, y_pred))\n"
   ]
  },
  {
   "cell_type": "code",
   "execution_count": 43,
   "id": "209aaf9c",
   "metadata": {},
   "outputs": [],
   "source": [
    "from sklearn.preprocessing import LabelEncoder\n",
    "\n",
    "label_encoder = LabelEncoder()\n",
    "y_encoded = label_encoder.fit_transform(df['subject'])\n",
    "\n",
    "# Use y_encoded for training instead of raw y\n"
   ]
  },
  {
   "cell_type": "code",
   "execution_count": 44,
   "id": "42bf9c0b",
   "metadata": {},
   "outputs": [
    {
     "data": {
      "text/plain": [
       "['label_encoder.pkl']"
      ]
     },
     "execution_count": 44,
     "metadata": {},
     "output_type": "execute_result"
    }
   ],
   "source": [
    "import joblib\n",
    "\n",
    "joblib.dump(label_encoder, 'label_encoder.pkl')\n"
   ]
  },
  {
   "cell_type": "code",
   "execution_count": 45,
   "id": "18480be6",
   "metadata": {},
   "outputs": [],
   "source": [
    "import os\n",
    "\n",
    "os.rename('model.pkl', 'doubt_classifier_model.pkl')\n"
   ]
  }
 ],
 "metadata": {
  "kernelspec": {
   "display_name": "Python 3",
   "language": "python",
   "name": "python3"
  },
  "language_info": {
   "codemirror_mode": {
    "name": "ipython",
    "version": 3
   },
   "file_extension": ".py",
   "mimetype": "text/x-python",
   "name": "python",
   "nbconvert_exporter": "python",
   "pygments_lexer": "ipython3",
   "version": "3.11.9"
  }
 },
 "nbformat": 4,
 "nbformat_minor": 5
}
